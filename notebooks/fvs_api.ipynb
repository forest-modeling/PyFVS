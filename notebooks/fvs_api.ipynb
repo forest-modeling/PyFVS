{
 "cells": [
  {
   "cell_type": "code",
   "execution_count": 1,
   "metadata": {},
   "outputs": [],
   "source": [
    "import importlib\n",
    "import logging\n",
    "\n",
    "import numpy as np\n",
    "\n",
    "import pyfvs\n",
    "from pyfvs import fvs\n",
    "\n",
    "log = logging.getLogger()\n",
    "log.setLevel(logging.ERROR)"
   ]
  },
  {
   "cell_type": "code",
   "execution_count": 2,
   "metadata": {},
   "outputs": [],
   "source": [
    "x = fvs.FVS('pn')\n",
    "x.init_projection(r'C:\\workspace\\forest-modeling\\PyFVS\\pyfvs\\test\\rmrs\\pn_bareground.key')\n",
    "x.run()"
   ]
  },
  {
   "cell_type": "code",
   "execution_count": 3,
   "metadata": {},
   "outputs": [
    {
     "data": {
      "text/plain": [
       "'c:\\\\workspace\\\\forest-modeling\\\\pyfvs\\\\pyfvs\\\\fvs.py'"
      ]
     },
     "execution_count": 3,
     "metadata": {},
     "output_type": "execute_result"
    }
   ],
   "source": [
    "fvs.__file__"
   ]
  },
  {
   "cell_type": "code",
   "execution_count": 4,
   "metadata": {},
   "outputs": [],
   "source": [
    "class FVS(object):\n",
    "    def __init__(self, variant, workspace, keywords=None):\n",
    "        self.variant = variant\n",
    "        self.workspace = workspace\n",
    "        self.keywords = keywords\n",
    "\n",
    "        self._load_fvslib()\n",
    "\n",
    "    def _load_fvslib(self):\n",
    "        \"\"\"\n",
    "        Load the requested FVS variant library.\n",
    "        \"\"\"\n",
    "\n",
    "        # FIXME: Variant libraries should be compiled without the climate fvs trailing 'c'\n",
    "        variant_ext = 'pyfvs.fvs%s' % self.variant.lower()[:2]\n",
    "        try:\n",
    "            self.fvslib = importlib.import_module(variant_ext)\n",
    "\n",
    "        except ImportError:\n",
    "            log.error('No library found for variant {}.'.format(self.variant))\n",
    "            raise\n",
    "\n",
    "        except:\n",
    "            raise\n",
    "\n",
    "        log.debug('Loaded FVS variant {} library from {}'.format(\n",
    "                self.variant, self.fvslib.__file__))\n",
    "\n",
    "        # Initialize the FVS parameters and arrays\n",
    "        # FIXME: This api function is subject to change\n",
    "        self.fvslib.fvs_step.init_blkdata()\n",
    "        self.fvslib.tree_data.init_tree_data()\n",
    "        # self.fvslib.initialize_api.init()\n",
    "\n",
    "v = FVS('pn',r'C:\\workspace\\forest-modeling\\PyFVS\\pyfvs\\test')"
   ]
  },
  {
   "cell_type": "code",
   "execution_count": 6,
   "metadata": {},
   "outputs": [
    {
     "data": {
      "text/plain": [
       "0"
      ]
     },
     "execution_count": 6,
     "metadata": {},
     "output_type": "execute_result"
    }
   ],
   "source": [
    "kp = r'C:\\workspace\\forest-modeling\\PyFVS\\pyfvs\\test\\rmrs\\pn_bareground.key'\n",
    "r = np.array([0],np.int32)\n",
    "\n",
    "v.fvslib.fvssetcmdline(kp,len(kp))"
   ]
  },
  {
   "cell_type": "code",
   "execution_count": 7,
   "metadata": {},
   "outputs": [
    {
     "data": {
      "text/plain": [
       "['__doc__',\n",
       " '__f2py_numpy_version__',\n",
       " '__file__',\n",
       " '__loader__',\n",
       " '__name__',\n",
       " '__package__',\n",
       " '__spec__',\n",
       " '__version__',\n",
       " '_fvspn_error',\n",
       " 'arrays',\n",
       " 'carbon_data',\n",
       " 'cfimcom',\n",
       " 'clearrestartcode',\n",
       " 'coeffs',\n",
       " 'conchr',\n",
       " 'contrl',\n",
       " 'crbcom',\n",
       " 'downwood_data',\n",
       " 'econ',\n",
       " 'escom2',\n",
       " 'escomn',\n",
       " 'eshap',\n",
       " 'eshap2',\n",
       " 'esrncm',\n",
       " 'estree',\n",
       " 'fmcom',\n",
       " 'fmfcom',\n",
       " 'forkod',\n",
       " 'fvs',\n",
       " 'fvs_step',\n",
       " 'fvsgetkeywordfilename',\n",
       " 'fvsgetrestartcode',\n",
       " 'fvsgetrtncode',\n",
       " 'fvsgetstoppointcodes',\n",
       " 'fvsrestart',\n",
       " 'fvsrestartlaststand',\n",
       " 'fvssetcmdline',\n",
       " 'fvssetrtncode',\n",
       " 'fvssetstoppointcodes',\n",
       " 'fvsstdcm',\n",
       " 'fvsstoppoint',\n",
       " 'getamstopping',\n",
       " 'glblcntl',\n",
       " 'glblcntlc',\n",
       " 'globals',\n",
       " 'htcal',\n",
       " 'htcalc',\n",
       " 'inventory_trees',\n",
       " 'keycom',\n",
       " 'keywds',\n",
       " 'outchr',\n",
       " 'outcom',\n",
       " 'pden',\n",
       " 'plot',\n",
       " 'pltchr',\n",
       " 'rancom',\n",
       " 'screen',\n",
       " 'setglblcntl',\n",
       " 'snag_data',\n",
       " 'stdstk',\n",
       " 'tree_data',\n",
       " 'varchr',\n",
       " 'varcom',\n",
       " 'workcm']"
      ]
     },
     "execution_count": 7,
     "metadata": {},
     "output_type": "execute_result"
    }
   ],
   "source": [
    "dir(v.fvslib)"
   ]
  },
  {
   "cell_type": "code",
   "execution_count": null,
   "metadata": {},
   "outputs": [],
   "source": []
  }
 ],
 "metadata": {
  "interpreter": {
   "hash": "3c196238f3c904a41865ce12a06e1a9b74fc5655700f749c57f337411d759166"
  },
  "kernelspec": {
   "display_name": "Python [conda env:py38]",
   "language": "python",
   "name": "conda-env-py38-py"
  },
  "language_info": {
   "codemirror_mode": {
    "name": "ipython",
    "version": 3
   },
   "file_extension": ".py",
   "mimetype": "text/x-python",
   "name": "python",
   "nbconvert_exporter": "python",
   "pygments_lexer": "ipython3",
   "version": "3.8.12"
  }
 },
 "nbformat": 4,
 "nbformat_minor": 4
}
