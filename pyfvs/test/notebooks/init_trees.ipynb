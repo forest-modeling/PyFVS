{
 "cells": [
  {
   "cell_type": "code",
   "execution_count": 1,
   "metadata": {},
   "outputs": [],
   "source": [
    "\n",
    "import os\n",
    "import unittest\n",
    "import pytest\n",
    "import sqlite3\n",
    "\n",
    "import pandas as pd\n",
    "\n",
    "from pyfvs import fvs\n",
    "from pyfvs.keywords import keywords as kwds\n",
    "\n",
    "root = os.getcwd()\n",
    "\n",
    "workspace = f'{root}/fia_test'\n",
    "fia_db = f'{root}/fia_test.db'\n",
    "fvs_variant = 'PN'\n",
    "forest_code = 612"
   ]
  },
  {
   "cell_type": "code",
   "execution_count": 2,
   "metadata": {},
   "outputs": [],
   "source": [
    "try:\n",
    "    os.makedirs(workspace)\n",
    "except:\n",
    "    pass\n",
    "\n",
    "with sqlite3.connect(fia_db) as conn:\n",
    "    plot = pd.read_sql('select * from plot', conn).iloc[0]\n",
    "    plot_cn = plot['cn']\n",
    "\n",
    "    ## FIXME: Aggregate condition or constrain trees to condition\n",
    "    cond = pd.read_sql(f\"select * from cond where plt_cn='{plot_cn}'\", conn).iloc[0]\n",
    "    \n",
    "    tree = pd.read_sql(f\"select * from tree where plt_cn='{plot_cn}'\", conn)\n",
    "    # site_tree = pd.read_sql(f\"select * from sitetree where plt_cn='{plot_cn}'\", conn)\n",
    "\n",
    "m = tree['statuscd']==1\n",
    "live_trees = tree.loc[m,:].copy()\n",
    "\n",
    "sim = fvs.FVS(fvs_variant, workspace=workspace, cleanup=False)\n",
    "kw = sim.init_keywords(title=plot_cn)\n",
    "kw += kwds.STANDCN(plot_cn)\n",
    "kw += kwds.STDINFO(\n",
    "    location=forest_code\n",
    "    , slope=cond['slope']\n",
    "    , aspect=cond['aspect']\n",
    "    , elevation=plot['elev']\n",
    ")\n",
    "kw += kwds.DESIGN()\n",
    "kw += kwds.TIMEINT(0,10)\n",
    "kw += kwds.NUMCYCLE(1)\n",
    "\n",
    "kw += kwds.SITECODE(int(cond['sisp']), cond['sicond'])\n",
    "kw += kwds.NOTREES()\n",
    "\n",
    "live_trees['plot_id'] = 1\n",
    "live_trees['tree_num'] = live_trees['tree'].astype(int)\n",
    "live_trees['tree_count'] = live_trees['tpa_unadj']\n",
    "live_trees['species'] = live_trees['spcd'].astype(int)\n",
    "live_trees['diam_growth'] = 0.0\n",
    "live_trees['height_growth'] = 0.0\n",
    "live_trees['total_height'] = 0.0\n",
    "live_trees['age'] = 0.0\n",
    "\n",
    "# cols = ['plot_id','tree_num','tree_count','species','diam']\n",
    "# sim.inv_trees = live_trees.loc[:,cols]\n",
    "\n",
    "# sim.init_projection(kw)\n",
    "# r = sim.run()\n",
    "\n",
    "# print('FVS Return Code: %s' % r)\n",
    "# self.assertEqual(r, 0, 'FVS Return Code: %s' % r)\n"
   ]
  },
  {
   "cell_type": "code",
   "execution_count": 3,
   "metadata": {},
   "outputs": [],
   "source": [
    "# sim.initialize_trees"
   ]
  },
  {
   "cell_type": "code",
   "execution_count": 4,
   "metadata": {},
   "outputs": [],
   "source": [
    "cols = ['plot_id','tree_num', 'tpa_unadj', 'statuscd', 'species'\n",
    "        , 'dia', 'diam_growth', 'ht', 'total_height'\n",
    "        , 'height_growth', 'cr'\n",
    "        , 'age']\n",
    "x = live_trees.loc[:,cols]\n",
    "args = [live_trees[c].values for c in cols]\n",
    "# r = sim.initialize_trees(num_trees=live_trees.shape[0], *args)"
   ]
  },
  {
   "cell_type": "code",
   "execution_count": 5,
   "metadata": {},
   "outputs": [],
   "source": [
    "inv = sim.fvslib.inventory_trees\n",
    "inv.plot_id = x['plot_id'].values\n",
    "inv.tree_id = x['tree_num'].values\n",
    "inv.trees = x['tpa_unadj'].values\n",
    "inv.tree_status = x['statuscd'].values\n",
    "inv.diameter = x['dia'].values\n",
    "inv.species = x['species'].values\n",
    "# inv.plot_id = x['plot_id'].values"
   ]
  },
  {
   "cell_type": "code",
   "execution_count": 6,
   "metadata": {},
   "outputs": [],
   "source": [
    "inv.print_trees()\n",
    "# inv.species[0]"
   ]
  },
  {
   "cell_type": "code",
   "execution_count": 7,
   "metadata": {},
   "outputs": [
    {
     "ename": "AttributeError",
     "evalue": "No FVS object \"initialize_trees\".",
     "output_type": "error",
     "traceback": [
      "\u001b[1;31m---------------------------------------------------------------------------\u001b[0m",
      "\u001b[1;31mAttributeError\u001b[0m                            Traceback (most recent call last)",
      "\u001b[1;32mc:\\workspace\\forest-modeling\\pyfvs\\pyfvs\\fvs.py\u001b[0m in \u001b[0;36m__getattr__\u001b[1;34m(self, attr)\u001b[0m\n\u001b[0;32m    257\u001b[0m             \u001b[1;32mif\u001b[0m \u001b[0mv\u001b[0m \u001b[1;32mis\u001b[0m \u001b[1;32mNone\u001b[0m\u001b[1;33m:\u001b[0m\u001b[1;33m\u001b[0m\u001b[1;33m\u001b[0m\u001b[0m\n\u001b[1;32m--> 258\u001b[1;33m                 \u001b[0mv\u001b[0m \u001b[1;33m=\u001b[0m \u001b[0mgetattr\u001b[0m\u001b[1;33m(\u001b[0m\u001b[0mself\u001b[0m\u001b[1;33m.\u001b[0m\u001b[0mfvslib\u001b[0m\u001b[1;33m.\u001b[0m\u001b[0mglobals\u001b[0m\u001b[1;33m,\u001b[0m \u001b[0mattr\u001b[0m\u001b[1;33m)\u001b[0m\u001b[1;33m\u001b[0m\u001b[1;33m\u001b[0m\u001b[0m\n\u001b[0m\u001b[0;32m    259\u001b[0m \u001b[1;33m\u001b[0m\u001b[0m\n",
      "\u001b[1;31mAttributeError\u001b[0m: 'fortran' object has no attribute 'initialize_trees'",
      "\nDuring handling of the above exception, another exception occurred:\n",
      "\u001b[1;31mAttributeError\u001b[0m                            Traceback (most recent call last)",
      "\u001b[1;32m~\\AppData\\Local\\Temp/ipykernel_5556/645675983.py\u001b[0m in \u001b[0;36m<module>\u001b[1;34m\u001b[0m\n\u001b[0;32m      1\u001b[0m \u001b[0msim\u001b[0m\u001b[1;33m.\u001b[0m\u001b[0minit_projection\u001b[0m\u001b[1;33m(\u001b[0m\u001b[0mkw\u001b[0m\u001b[1;33m)\u001b[0m\u001b[1;33m\u001b[0m\u001b[1;33m\u001b[0m\u001b[0m\n\u001b[1;32m----> 2\u001b[1;33m \u001b[0mr\u001b[0m \u001b[1;33m=\u001b[0m \u001b[0msim\u001b[0m\u001b[1;33m.\u001b[0m\u001b[0minitialize_trees\u001b[0m\u001b[1;33m(\u001b[0m\u001b[0mnum_trees\u001b[0m\u001b[1;33m=\u001b[0m\u001b[0mlive_trees\u001b[0m\u001b[1;33m.\u001b[0m\u001b[0mshape\u001b[0m\u001b[1;33m[\u001b[0m\u001b[1;36m0\u001b[0m\u001b[1;33m]\u001b[0m\u001b[1;33m,\u001b[0m \u001b[1;33m*\u001b[0m\u001b[0margs\u001b[0m\u001b[1;33m)\u001b[0m\u001b[1;33m\u001b[0m\u001b[1;33m\u001b[0m\u001b[0m\n\u001b[0m\u001b[0;32m      3\u001b[0m \u001b[0mr\u001b[0m \u001b[1;33m=\u001b[0m \u001b[0msim\u001b[0m\u001b[1;33m.\u001b[0m\u001b[0mrun\u001b[0m\u001b[1;33m(\u001b[0m\u001b[1;33m)\u001b[0m\u001b[1;33m\u001b[0m\u001b[1;33m\u001b[0m\u001b[0m\n\u001b[0;32m      4\u001b[0m \u001b[0mprint\u001b[0m\u001b[1;33m(\u001b[0m\u001b[0mr\u001b[0m\u001b[1;33m)\u001b[0m\u001b[1;33m\u001b[0m\u001b[1;33m\u001b[0m\u001b[0m\n",
      "\u001b[1;32mc:\\workspace\\forest-modeling\\pyfvs\\pyfvs\\fvs.py\u001b[0m in \u001b[0;36m__getattr__\u001b[1;34m(self, attr)\u001b[0m\n\u001b[0;32m    261\u001b[0m             \u001b[0mmsg\u001b[0m \u001b[1;33m=\u001b[0m \u001b[1;34m'No FVS object \"{}\".'\u001b[0m\u001b[1;33m.\u001b[0m\u001b[0mformat\u001b[0m\u001b[1;33m(\u001b[0m\u001b[0mattr\u001b[0m\u001b[1;33m,\u001b[0m\u001b[1;33m)\u001b[0m\u001b[1;33m\u001b[0m\u001b[1;33m\u001b[0m\u001b[0m\n\u001b[0;32m    262\u001b[0m             \u001b[1;31m# log.exception(msg)\u001b[0m\u001b[1;33m\u001b[0m\u001b[1;33m\u001b[0m\u001b[1;33m\u001b[0m\u001b[0m\n\u001b[1;32m--> 263\u001b[1;33m             \u001b[1;32mraise\u001b[0m \u001b[0mAttributeError\u001b[0m\u001b[1;33m(\u001b[0m\u001b[0mmsg\u001b[0m\u001b[1;33m)\u001b[0m\u001b[1;33m\u001b[0m\u001b[1;33m\u001b[0m\u001b[0m\n\u001b[0m\u001b[0;32m    264\u001b[0m \u001b[1;33m\u001b[0m\u001b[0m\n\u001b[0;32m    265\u001b[0m         \u001b[1;32mreturn\u001b[0m \u001b[0mv\u001b[0m\u001b[1;33m\u001b[0m\u001b[1;33m\u001b[0m\u001b[0m\n",
      "\u001b[1;31mAttributeError\u001b[0m: No FVS object \"initialize_trees\"."
     ]
    }
   ],
   "source": [
    "sim.init_projection(kw)\n",
    "r = sim.initialize_trees(num_trees=live_trees.shape[0], *args)\n",
    "r = sim.run()\n",
    "print(r)"
   ]
  },
  {
   "cell_type": "code",
   "execution_count": null,
   "metadata": {},
   "outputs": [
    {
     "data": {
      "text/plain": [
       "array([6.018046, 0.      , 0.      , 0.      , 0.      , 0.      ,\n",
       "       0.      , 0.      , 0.      , 0.      ], dtype=float32)"
      ]
     },
     "execution_count": 15,
     "metadata": {},
     "output_type": "execute_result"
    }
   ],
   "source": [
    "sim.globals.prob[:10]"
   ]
  },
  {
   "cell_type": "code",
   "execution_count": null,
   "metadata": {},
   "outputs": [],
   "source": []
  }
 ],
 "metadata": {
  "interpreter": {
   "hash": "3c196238f3c904a41865ce12a06e1a9b74fc5655700f749c57f337411d759166"
  },
  "kernelspec": {
   "display_name": "Python 3.8.12 ('pyfvs38')",
   "language": "python",
   "name": "python3"
  },
  "language_info": {
   "codemirror_mode": {
    "name": "ipython",
    "version": 3
   },
   "file_extension": ".py",
   "mimetype": "text/x-python",
   "name": "python",
   "nbconvert_exporter": "python",
   "pygments_lexer": "ipython3",
   "version": "3.8.12"
  },
  "orig_nbformat": 4
 },
 "nbformat": 4,
 "nbformat_minor": 2
}
